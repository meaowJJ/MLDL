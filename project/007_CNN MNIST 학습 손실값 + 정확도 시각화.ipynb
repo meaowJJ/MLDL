{
 "cells": [
  {
   "cell_type": "code",
   "execution_count": 1,
   "id": "e07b5fb3",
   "metadata": {},
   "outputs": [],
   "source": [
    "class Convolution:\n",
    "    def __init__(self, W, b, stride = 1, pad = 0):\n",
    "        self.W = W    # 가중치(필터)\n",
    "        self.b = b    # 편향\n",
    "        self.stride = stride    # 스트라이드\n",
    "        self.pad = pad    #패딩\n",
    "\n",
    "        # 중간 데이터 저장용\n",
    "        # backward (역전파)에서 사용\n",
    "        self.x = None    # 입력 데이터\n",
    "        self.col = None    # im2col 거친 결과 (2차원 배열)\n",
    "        self.col_W = None    # im2col 거친 결과에 대한 가중치 (필터)\n",
    "        self.dW = None    # 가중치 기울기\n",
    "        self.db = None    # 편향 기울기\n",
    "        \n",
    "        \n",
    "    def forward(self, x):\n",
    "        FN, C, FH, FW = self.W.shape    # 필터갯수, 채널, 필터높이, 필터너비의 4차원 형상\n",
    "        N, C, H, W = x.shape    # 입력 데이터의 4차원 형상\n",
    "\n",
    "        out_h = (H + 2 * self.pad - FW) // self.stride + 1\n",
    "        out_w = (W + 2 * self.pad - FW) // self.stride + 1\n",
    "\n",
    "        # 필터 전개\n",
    "        col = im2col(x, FH, FW, self.stride, self.pad)\n",
    "        col_W = self.W.reshape(FN, -1).T\n",
    "\n",
    "        out = np.dot(col, col_W) + self.b\n",
    "        out = out.reshape(N, out_h, out_w, -1).transpose(0, 3, 1, 2)\n",
    "\n",
    "        self.x = x\n",
    "        self.col = col\n",
    "        self.col_W = col_W\n",
    "        \n",
    "        return out\n",
    "    \n",
    "    \n",
    "    def backward(self, dout):\n",
    "        FN, C, FH, FW = self.W.shape\n",
    "        dout = dout.transpose(0, 2, 3, 1).reshape(-1, FN)    # (N, C, H, W)를 (N, H, W, C)로 변경\n",
    "\n",
    "        self.db = np.sum(dout, axis = 0)\n",
    "        self.dW = np.dot(self.col.T, dout)\n",
    "        self.dW = self.dW.transpose(1, 0).reshape(FN, C, FH, FW)\n",
    "\n",
    "        dcol = np.dot(dout, self.col_W.T)\n",
    "        dx = col2im(dcol, self.x.shape, FH, FW, self.stride, self.pad)\n",
    "\n",
    "        return dx\n",
    "\n",
    "    \n",
    "    "
   ]
  },
  {
   "cell_type": "code",
   "execution_count": 2,
   "id": "87bab56e",
   "metadata": {},
   "outputs": [],
   "source": [
    "def im2col(input_data, filter_h, filter_w, stride = 1, pad = 0):\n",
    "        N, C, H, W = input_data.shape\n",
    "        out_h = (H + 2 * pad - filter_h) // stride + 1\n",
    "        out_w = (W + 2 * pad - filter_w) // stride + 1\n",
    "\n",
    "        img = np.pad(input_data, [(0, 0), (0, 0), (pad, pad), (pad, pad)])\n",
    "        col = np.zeros((N, C, filter_h, filter_w, out_h, out_w))\n",
    "\n",
    "        for y in range(filter_h):\n",
    "            y_max = y + stride * out_h\n",
    "\n",
    "            for x in range(filter_w):\n",
    "                x_max = x + stride * out_w\n",
    "                col[:, :, y, x, :, :] = img[:, :, y:y_max:stride, x:x_max:stride]\n",
    "\n",
    "        col = col.transpose(0, 4, 5, 1, 2, 3).reshape(N * out_h * out_w, -1)\n",
    "\n",
    "        return col"
   ]
  },
  {
   "cell_type": "code",
   "execution_count": 3,
   "id": "fa89b77f",
   "metadata": {},
   "outputs": [
    {
     "name": "stdout",
     "output_type": "stream",
     "text": [
      "x1.shape :  (1, 3, 4, 4)\n",
      "col1.shape :  (4, 27)\n",
      "col1 reshape 후 shape :  (12, 9)\n",
      " \n",
      "x2.shape :  (2, 1, 5, 5)\n",
      "col2.shape :  (18, 9)\n",
      "col2 reshape 후 shape :  (18, 9)\n",
      " \n"
     ]
    }
   ],
   "source": [
    "import numpy as np\n",
    "\n",
    "window_h = 3\n",
    "window_w = 3\n",
    "x1 = np.random.rand(1, 3, 4, 4)\n",
    "\n",
    "col1 = im2col(x1, window_h, window_w, stride = 1, pad = 0)\n",
    "print(\"x1.shape : \", x1.shape)\n",
    "print(\"col1.shape : \", col1.shape)\n",
    "\n",
    "col1 = col1.reshape(-1, window_h * window_w)\n",
    "print(\"col1 reshape 후 shape : \", col1.shape)\n",
    "print(\" \")\n",
    "\n",
    "###########\n",
    "\n",
    "x2 = np.random.rand(2, 1, 5, 5)\n",
    "\n",
    "col2 = im2col(x2, window_h, window_w, stride = 1, pad = 0)\n",
    "print(\"x2.shape : \", x2.shape)\n",
    "print(\"col2.shape : \", col2.shape)\n",
    "\n",
    "col2 = col2.reshape(-1, window_h * window_w)\n",
    "print(\"col2 reshape 후 shape : \", col2.shape)\n",
    "print(\" \")"
   ]
  },
  {
   "cell_type": "code",
   "execution_count": 4,
   "id": "84046ffd",
   "metadata": {},
   "outputs": [
    {
     "name": "stdout",
     "output_type": "stream",
     "text": [
      "패딩이 적용되기 전 array_2d : \n",
      "[[1 2 3]\n",
      " [4 5 6]]\n",
      " \n",
      "3 패딩이 적용된 array_2d : \n",
      "[[0 0 0 0 0 0 0 0 0]\n",
      " [0 0 0 0 0 0 0 0 0]\n",
      " [0 0 0 0 0 0 0 0 0]\n",
      " [0 0 0 1 2 3 0 0 0]\n",
      " [0 0 0 4 5 6 0 0 0]\n",
      " [0 0 0 0 0 0 0 0 0]\n",
      " [0 0 0 0 0 0 0 0 0]\n",
      " [0 0 0 0 0 0 0 0 0]]\n"
     ]
    }
   ],
   "source": [
    "pad = 3\n",
    "array_2d = np.array([[1, 2, 3],\n",
    "                     [4, 5, 6]])\n",
    "\n",
    "print(\"패딩이 적용되기 전 array_2d : \", array_2d, sep = '\\n')\n",
    "print(\" \")\n",
    "\n",
    "pad_array_2d = np.pad(array_2d, ((pad, pad), (pad, pad)))\n",
    "print(\"3 패딩이 적용된 array_2d : \", pad_array_2d, sep = \"\\n\")"
   ]
  },
  {
   "cell_type": "code",
   "execution_count": 5,
   "id": "d2bcfea3",
   "metadata": {},
   "outputs": [
    {
     "name": "stdout",
     "output_type": "stream",
     "text": [
      "데이터 : \n",
      "[[[[1 2 3 0]\n",
      "   [0 1 2 3]\n",
      "   [3 0 1 2]\n",
      "   [2 3 0 1]]]]\n",
      "데이터 shape :  (1, 1, 4, 4)\n",
      " \n",
      "2 패딩이 적용된 데이터 : \n",
      "[[[[0 0 0 0 0 0 0 0]\n",
      "   [0 0 0 0 0 0 0 0]\n",
      "   [0 0 1 2 3 0 0 0]\n",
      "   [0 0 0 1 2 3 0 0]\n",
      "   [0 0 3 0 1 2 0 0]\n",
      "   [0 0 2 3 0 1 0 0]\n",
      "   [0 0 0 0 0 0 0 0]\n",
      "   [0 0 0 0 0 0 0 0]]]]\n",
      "2 패딩이 적용된 데이터 shape :  (1, 1, 8, 8)\n"
     ]
    }
   ],
   "source": [
    "pad = 2\n",
    "bw_img_data = np.array([[[[1, 2, 3, 0],\n",
    "                         [0, 1, 2, 3],\n",
    "                         [3, 0, 1, 2],\n",
    "                         [2, 3, 0, 1]]]])\n",
    "print(\"데이터 : \", bw_img_data, sep = \"\\n\")\n",
    "print(\"데이터 shape : \", bw_img_data.shape)\n",
    "\n",
    "pad_bw_img_data = np.pad(bw_img_data, [(0, 0), (0, 0), (pad, pad), (pad, pad)])\n",
    "print(\" \")\n",
    "\n",
    "print(\"2 패딩이 적용된 데이터 : \", pad_bw_img_data, sep = \"\\n\")\n",
    "print(\"2 패딩이 적용된 데이터 shape : \", pad_bw_img_data.shape)"
   ]
  },
  {
   "cell_type": "code",
   "execution_count": 6,
   "id": "35d86d95",
   "metadata": {},
   "outputs": [
    {
     "name": "stdout",
     "output_type": "stream",
     "text": [
      "정규화된 데이터 : \n",
      "[[[[0.4892603  0.44990055 0.89821262 0.12143417]\n",
      "   [0.2219359  0.13457902 0.00338339 0.28069381]\n",
      "   [0.27001857 0.04201192 0.15441816 0.77426738]\n",
      "   [0.62395898 0.67385899 0.40408967 0.87088527]]\n",
      "\n",
      "  [[0.96395218 0.72542636 0.95804876 0.93764257]\n",
      "   [0.08368406 0.44722499 0.37950501 0.76910962]\n",
      "   [0.87342386 0.45792028 0.57583599 0.80522377]\n",
      "   [0.38787859 0.50240237 0.98994112 0.18434907]]\n",
      "\n",
      "  [[0.94139021 0.09809791 0.59680109 0.5246577 ]\n",
      "   [0.39852611 0.65724175 0.27954118 0.1517592 ]\n",
      "   [0.27634104 0.58419277 0.11305147 0.58014011]\n",
      "   [0.23955508 0.25808748 0.97692292 0.94176851]]]]\n",
      "정규화된 데이터 shape :  (1, 3, 4, 4)\n",
      " \n",
      "1 패딩이 적용된 데이터 : \n",
      "[[[[0.         0.         0.         0.         0.         0.        ]\n",
      "   [0.         0.4892603  0.44990055 0.89821262 0.12143417 0.        ]\n",
      "   [0.         0.2219359  0.13457902 0.00338339 0.28069381 0.        ]\n",
      "   [0.         0.27001857 0.04201192 0.15441816 0.77426738 0.        ]\n",
      "   [0.         0.62395898 0.67385899 0.40408967 0.87088527 0.        ]\n",
      "   [0.         0.         0.         0.         0.         0.        ]]\n",
      "\n",
      "  [[0.         0.         0.         0.         0.         0.        ]\n",
      "   [0.         0.96395218 0.72542636 0.95804876 0.93764257 0.        ]\n",
      "   [0.         0.08368406 0.44722499 0.37950501 0.76910962 0.        ]\n",
      "   [0.         0.87342386 0.45792028 0.57583599 0.80522377 0.        ]\n",
      "   [0.         0.38787859 0.50240237 0.98994112 0.18434907 0.        ]\n",
      "   [0.         0.         0.         0.         0.         0.        ]]\n",
      "\n",
      "  [[0.         0.         0.         0.         0.         0.        ]\n",
      "   [0.         0.94139021 0.09809791 0.59680109 0.5246577  0.        ]\n",
      "   [0.         0.39852611 0.65724175 0.27954118 0.1517592  0.        ]\n",
      "   [0.         0.27634104 0.58419277 0.11305147 0.58014011 0.        ]\n",
      "   [0.         0.23955508 0.25808748 0.97692292 0.94176851 0.        ]\n",
      "   [0.         0.         0.         0.         0.         0.        ]]]]\n",
      "1 패딩이 적용된 데이터 shape :  (1, 3, 6, 6)\n"
     ]
    }
   ],
   "source": [
    "pad = 1\n",
    "img_data = np.random.rand(1, 3, 4, 4)\n",
    "\n",
    "print(\"정규화된 데이터 : \", img_data, sep = \"\\n\")\n",
    "print(\"정규화된 데이터 shape : \", img_data.shape)\n",
    "\n",
    "pad_img_data = np.pad(img_data, [(0, 0), (0, 0), (pad, pad), (pad, pad)])\n",
    "print(\" \")\n",
    "\n",
    "print(\"1 패딩이 적용된 데이터 : \", pad_img_data, sep = \"\\n\")\n",
    "print(\"1 패딩이 적용된 데이터 shape : \", pad_img_data.shape)"
   ]
  },
  {
   "cell_type": "code",
   "execution_count": 7,
   "id": "95ee1d58",
   "metadata": {},
   "outputs": [],
   "source": [
    "def col2im(col, input_shape, filter_h, filter_w, stride = 1, pad = 0):\n",
    "    N, C, H, W = input_shape\n",
    "    out_h = (H + 2 * pad - filter_h) // stride + 1\n",
    "    out_w = (W + 2 * pad - filter_w) // stride + 1\n",
    "    col = col.reshape(N, out_h, out_w, C, filter_h, filter_w).transpose(0, 3, 4, 5, 1, 2)\n",
    "\n",
    "    img = np.zeros((N, C, H + 2 * pad + stride - 1, W + 2 * pad + stride - 1))\n",
    "\n",
    "    for y in range(filter_h):\n",
    "        y_max = y + stride * out_h\n",
    "\n",
    "        for x in range(filter_w):\n",
    "            x_max = x + stride * out_w\n",
    "            img[:, :, y:y_max:stride, x:x_max:stride] += col[:, :, y, x, :, :]\n",
    "\n",
    "    return img[:, :, pad:H + pad, pad:W + pad]"
   ]
  },
  {
   "cell_type": "code",
   "execution_count": 8,
   "id": "dec328e3",
   "metadata": {},
   "outputs": [],
   "source": [
    "class ReLU:\n",
    "    def __inint__(self):\n",
    "        self.boolean_array = None\n",
    "        \n",
    "    def forward(self, x):\n",
    "        self.boolean_array = (x <= 0)\n",
    "        out = x.copy()\n",
    "        out[self.boolean_array] = 0\n",
    "        \n",
    "        return out\n",
    "    \n",
    "    def backward(self, dout):\n",
    "        dout[self.boolean_array] = 0\n",
    "        dx = dout\n",
    "        \n",
    "        return dx"
   ]
  },
  {
   "cell_type": "code",
   "execution_count": 9,
   "id": "081a6c49",
   "metadata": {},
   "outputs": [
    {
     "name": "stdout",
     "output_type": "stream",
     "text": [
      "[[False  True]\n",
      " [ True False]]\n"
     ]
    }
   ],
   "source": [
    "x = np.array([[1.0, -1.5],\n",
    "             [-4.0, 6.0]])\n",
    "\n",
    "boolean_array = (x <= 0)\n",
    "print(boolean_array)"
   ]
  },
  {
   "cell_type": "code",
   "execution_count": 10,
   "id": "db623145",
   "metadata": {},
   "outputs": [
    {
     "name": "stdout",
     "output_type": "stream",
     "text": [
      "out : \n",
      "[[ 1.  -1.5]\n",
      " [-4.   6. ]]\n"
     ]
    }
   ],
   "source": [
    "out = x.copy()\n",
    "print(\"out : \", out, sep = \"\\n\")"
   ]
  },
  {
   "cell_type": "code",
   "execution_count": 11,
   "id": "b67ef7fd",
   "metadata": {},
   "outputs": [
    {
     "name": "stdout",
     "output_type": "stream",
     "text": [
      "out[boolean_array] :  [-1.5 -4. ]\n",
      "out : \n",
      "[[1. 0.]\n",
      " [0. 6.]]\n"
     ]
    }
   ],
   "source": [
    "print(\"out[boolean_array] : \", out[boolean_array])\n",
    "\n",
    "out[boolean_array] = 0\n",
    "print(\"out : \", out, sep = \"\\n\")"
   ]
  },
  {
   "cell_type": "code",
   "execution_count": 12,
   "id": "bebd165d",
   "metadata": {},
   "outputs": [],
   "source": [
    "class Pooling:\n",
    "    def __init__(self, pool_h, pool_w, stride = 1, pad = 0):\n",
    "        self.pool_h = pool_h\n",
    "        self.pool_w = pool_w\n",
    "        self.stride = stride\n",
    "        self.pad = pad\n",
    "        \n",
    "        self.x = None\n",
    "        self.arg_max = None\n",
    "        \n",
    "    def forward(self, x):\n",
    "        N, C, H, W = x.shape\n",
    "        out_h = (H - self.pool_h) // self.stride + 1\n",
    "        out_w = (W - self.pool_w) // self.stride + 1\n",
    "\n",
    "        col = im2col(x, self.pool_h, self.pool_w, self.stride, self.pad)\n",
    "        col = col.reshape(-1, self.pool_h * self.pool_w)\n",
    "        \n",
    "        arg_max = np.argmax(col, axis = 1)\n",
    "        out = np.max(col, axis = 1)\n",
    "        out = out.reshape(N, out_h, out_w, C).transpose(0, 3, 1, 2)\n",
    "        \n",
    "        self.x = x\n",
    "        self.arg_max = arg_max\n",
    "        \n",
    "        return out\n",
    "    \n",
    "    def backward(self, dout):\n",
    "        dout = dout.transpose(0, 2, 3, 1)\n",
    "\n",
    "        pool_size = self.pool_h * self.pool_w\n",
    "        dmax = np.zeros((dout.size, pool_size))\n",
    "        dmax[np.arange(self.arg_max.size), self.arg_max.flatten()] = dout.flatten()\n",
    "        dmax = dmax.reshape(dout.shape + (pool_size,))\n",
    "\n",
    "        dcol = dmax.reshape(dmax.shape[0] * dmax.shape[1] * dmax.shape[2], -1)\n",
    "        dx = col2im(dcol, self.x.shape, self.pool_h, self.pool_w, self.stride, self.pad)\n",
    "\n",
    "        return dx"
   ]
  },
  {
   "cell_type": "code",
   "execution_count": 13,
   "id": "6959e99d",
   "metadata": {},
   "outputs": [
    {
     "name": "stdout",
     "output_type": "stream",
     "text": [
      "맨 처음 데이터 : \n",
      "[[[[ 0  1  2  3]\n",
      "   [ 4  5  6  7]\n",
      "   [ 8  9 10 11]\n",
      "   [12 13 14 15]]]\n",
      "\n",
      "\n",
      " [[[16 17 18 19]\n",
      "   [20 21 22 23]\n",
      "   [24 25 26 27]\n",
      "   [28 29 30 31]]]]\n",
      "맨 처음 데이터 shape :  (2, 1, 4, 4)\n",
      " \n",
      "im2col 적용 후 데이터 : \n",
      "[[ 0.  1.  4.  5.]\n",
      " [ 2.  3.  6.  7.]\n",
      " [ 8.  9. 12. 13.]\n",
      " [10. 11. 14. 15.]\n",
      " [16. 17. 20. 21.]\n",
      " [18. 19. 22. 23.]\n",
      " [24. 25. 28. 29.]\n",
      " [26. 27. 30. 31.]]\n",
      "맨 처음 데이터 shape :  (8, 4)\n",
      " \n",
      "reshape 후 데이터 : \n",
      "[[ 0.  1.  4.  5.]\n",
      " [ 2.  3.  6.  7.]\n",
      " [ 8.  9. 12. 13.]\n",
      " [10. 11. 14. 15.]\n",
      " [16. 17. 20. 21.]\n",
      " [18. 19. 22. 23.]\n",
      " [24. 25. 28. 29.]\n",
      " [26. 27. 30. 31.]]\n",
      " \n",
      "reshape 후 데이터 shape :  (8, 4)\n"
     ]
    }
   ],
   "source": [
    "pool_h = 2\n",
    "pool_w = 2\n",
    "stride = 2\n",
    "pad = 0\n",
    "\n",
    "x = np.arange(32)\n",
    "x = x.reshape(2, 1, 4, 4)\n",
    "\n",
    "print(\"맨 처음 데이터 : \", x, sep = \"\\n\")\n",
    "print(\"맨 처음 데이터 shape : \", x.shape)\n",
    "print(\" \")\n",
    "\n",
    "# im2col 사용해 4차원 데이터를 2차원 데이터 행렬로 변경\n",
    "im2col_x = im2col(x, pool_h, pool_w, stride, pad)\n",
    "print(\"im2col 적용 후 데이터 : \", im2col_x, sep = \"\\n\")\n",
    "print(\"맨 처음 데이터 shape : \", im2col_x.shape)\n",
    "print(\" \")\n",
    "\n",
    "im2col_x = im2col_x.reshape(-1, pool_h * pool_w)\n",
    "print(\"reshape 후 데이터 : \", im2col_x, sep = \"\\n\")\n",
    "print(\" \")\n",
    "\n",
    "print(\"reshape 후 데이터 shape : \", im2col_x.shape)"
   ]
  },
  {
   "cell_type": "code",
   "execution_count": 14,
   "id": "9ba0287c",
   "metadata": {},
   "outputs": [
    {
     "name": "stdout",
     "output_type": "stream",
     "text": [
      "axis = 1을 적용한 최대 index :  [3 3 3 3 3 3 3 3]\n",
      "axis = 1을 적용한 최대 값 :  [ 5.  7. 13. 15. 21. 23. 29. 31.]\n"
     ]
    }
   ],
   "source": [
    "arg_max = np.argmax(im2col_x, axis = 1)\n",
    "out_max = np.max(im2col_x, axis = 1)\n",
    "\n",
    "print(\"axis = 1을 적용한 최대 index : \", arg_max)\n",
    "print(\"axis = 1을 적용한 최대 값 : \", out_max)"
   ]
  },
  {
   "cell_type": "code",
   "execution_count": 15,
   "id": "d7206d09",
   "metadata": {},
   "outputs": [
    {
     "name": "stdout",
     "output_type": "stream",
     "text": [
      "axis = 1을 적용하지 않은 최대 index :  31\n",
      "axis = 1을 적용하지 않은 최대 값 :  31.0\n"
     ]
    }
   ],
   "source": [
    "arg_max = np.argmax(im2col_x)\n",
    "out_max = np.max(im2col_x)\n",
    "\n",
    "print(\"axis = 1을 적용하지 않은 최대 index : \", arg_max)\n",
    "print(\"axis = 1을 적용하지 않은 최대 값 : \", out_max)"
   ]
  },
  {
   "cell_type": "code",
   "execution_count": 16,
   "id": "e32694c9",
   "metadata": {},
   "outputs": [],
   "source": [
    "## 전체\n",
    "import numpy as np\n",
    "import matplotlib.pyplot as plt\n",
    "from collections import OrderedDict\n",
    "from common.layers import *\n",
    "from dataset.mnist import load_mnist\n",
    "\n",
    "class CNN:\n",
    "    def __init__(self, input_dim = (1, 28, 28),\n",
    "                conv_param = {\"filter_num\" : 30, \"filter_size\" : 5, \"pad\" : 0, \"stride\" : 1},\n",
    "                hidden_size = 100, output_size = 10, weight_init_std = 0.01):\n",
    "        \n",
    "        filter_num = conv_param[\"filter_num\"]\n",
    "        filter_size = conv_param[\"filter_size\"]\n",
    "        filter_pad = conv_param[\"pad\"]\n",
    "        filter_stride = conv_param[\"stride\"]\n",
    "        \n",
    "        input_size = input_dim[1]\n",
    "        \n",
    "        conv_output_size = (input_size - filter_size + 2 * filter_pad) // filter_stride + 1\n",
    "        pool_output_size = filter_num * (conv_output_size // 2) * (conv_output_size // 2)\n",
    "        \n",
    "        # 가중치 초기화\n",
    "        self.params = {}\n",
    "        self.params[\"W1\"] = weight_init_std * \\\n",
    "                            np.random.randn(filter_num, input_dim[0], filter_size, filter_size)\n",
    "        self.params[\"b1\"] = np.zeros(filter_num)\n",
    "        \n",
    "        \n",
    "        self.params[\"W2\"] = weight_init_std * \\\n",
    "                            np.random.randn(pool_output_size, hidden_size)\n",
    "        self.params[\"b2\"] = np.zeros(hidden_size)\n",
    "        \n",
    "        \n",
    "        self.params[\"W3\"] = weight_init_std * \\\n",
    "                            np.random.randn(hidden_size, output_size)\n",
    "        self.params[\"b3\"] = np.zeros(output_size)\n",
    "        \n",
    "        # 계층 생성\n",
    "        self.layers = OrderedDict()\n",
    "        self.layers[\"Conv1\"] = Convolution(self.params[\"W1\"], self.params[\"b1\"],\n",
    "                                         conv_param[\"stride\"], conv_param[\"pad\"])\n",
    "\n",
    "        self.layers[\"ReLU1\"] = ReLU()\n",
    "        self.layers[\"Pool1\"] = Pooling(pool_h = 2, pool_w = 2, stride = 2)\n",
    "        self.layers[\"Affine1\"] = Affine(self.params[\"W2\"], self.params['b2'])\n",
    "        self.layers[\"ReLU2\"] = ReLU()\n",
    "        self.layers[\"Affine2\"] = Affine(self.params[\"W3\"], self.params[\"b3\"])\n",
    "\n",
    "        self.lastLayer = SoftmaxWithLoss()\n",
    "        \n",
    "        \n",
    "    def predict(self, x):\n",
    "        for layer in self.layers.values():\n",
    "            x = layer.forward(x)\n",
    "        return x\n",
    "\n",
    "\n",
    "    # x : 입력데이터, y : 예측값, t : 정답 레이블\n",
    "    def loss(self, x, t):\n",
    "        y = self.predict(x)\n",
    "        return self.lastLayer.forward(y, t)\n",
    "\n",
    "\n",
    "    def accuracy (self, x, t):\n",
    "        y = self.predict(x)\n",
    "        y = np.argmax(y, axis = 1)\n",
    "\n",
    "        if t.ndim != 1:\n",
    "            t = np.argmax(t, axis = 1)\n",
    "\n",
    "        accuracy = np.sum(y == t) / float(x.shape[0])\n",
    "        return accuracy\n",
    "\n",
    "\n",
    "    def gradient(self, x, t):\n",
    "        # 순전파\n",
    "        self.loss(x, t)\n",
    "\n",
    "        # 역전파\n",
    "        dout = 1\n",
    "        dout = self.lastLayer.backward(dout)\n",
    "\n",
    "        layers = list(self.layers.values())\n",
    "        layers.reverse()\n",
    "\n",
    "        for layer in layers:\n",
    "            dout = layer.backward(dout)\n",
    "\n",
    "        # 결과 저장\n",
    "        grads = {}\n",
    "        grads[\"W1\"], grads[\"b1\"] = self.layers[\"Conv1\"].dW, self.layers[\"Conv1\"].db\n",
    "        grads[\"W2\"], grads[\"b2\"] = self.layers[\"Affine1\"].dW, self.layers[\"Affine1\"].db\n",
    "        grads[\"W3\"], grads[\"b3\"] = self.layers[\"Affine2\"].dW, self.layers[\"Affine2\"].db\n",
    "\n",
    "        return grads"
   ]
  },
  {
   "cell_type": "code",
   "execution_count": 17,
   "id": "e06bb26c",
   "metadata": {},
   "outputs": [
    {
     "name": "stdout",
     "output_type": "stream",
     "text": [
      "x_train :  (5000, 1, 28, 28)\n",
      "t_train :  (5000, 10)\n",
      "x_test :  (1000, 1, 28, 28)\n",
      "t_test :  (1000, 10)\n"
     ]
    }
   ],
   "source": [
    "import numpy as np\n",
    "from dataset.mnist import load_mnist\n",
    "\n",
    "(x_train, t_train), (x_test, t_test) = load_mnist(normalize= True, one_hot_label=True, flatten = False)\n",
    "\n",
    "x_train = x_train[:5000]\n",
    "t_train = t_train[:5000]\n",
    "\n",
    "x_test = x_test[:1000]\n",
    "t_test = t_test[:1000]\n",
    "\n",
    "print(\"x_train : \", np.shape(x_train))\n",
    "print(\"t_train : \", np.shape(t_train))\n",
    "\n",
    "print(\"x_test : \", np.shape(x_test))\n",
    "print(\"t_test : \", np.shape(t_test))\n",
    "\n",
    "network = CNN()\n",
    "\n",
    "iters_num = 2000\n",
    "train_size = x_train.shape[0]\n",
    "batch_size = 50\n",
    "learning_rate = 0.1\n",
    "\n",
    "train_loss_list = []\n",
    "train_loss_list2 = []\n",
    "train_acc_list = []\n",
    "test_acc_list = []\n",
    "\n",
    "epoch = 0"
   ]
  },
  {
   "cell_type": "code",
   "execution_count": 18,
   "id": "b082a76e",
   "metadata": {},
   "outputs": [
    {
     "name": "stdout",
     "output_type": "stream",
     "text": [
      "Epoch :  1 => train 정확도 :  9.9 % /  test 정확도 :  9.4 % / loss :  2.3017\n",
      "Epoch :  2 => train 정확도 :  20.62 % /  test 정확도 :  21.5 % / loss :  2.276\n",
      "Epoch :  3 => train 정확도 :  77.64 % /  test 정확도 :  74.9 % / loss :  0.2917\n",
      "Epoch :  4 => train 정확도 :  88.4 % /  test 정확도 :  85.1 % / loss :  0.2207\n",
      "Epoch :  5 => train 정확도 :  91.48 % /  test 정확도 :  89.3 % / loss :  0.1203\n",
      "Epoch :  6 => train 정확도 :  93.22 % /  test 정확도 :  89.1 % / loss :  0.1051\n",
      "Epoch :  7 => train 정확도 :  94.6 % /  test 정확도 :  90.8 % / loss :  0.0437\n",
      "Epoch :  8 => train 정확도 :  96.22 % /  test 정확도 :  92.3 % / loss :  0.055\n",
      "Epoch :  9 => train 정확도 :  96.22 % /  test 정확도 :  92.0 % / loss :  0.0418\n",
      "Epoch :  10 => train 정확도 :  96.72 % /  test 정확도 :  92.6 % / loss :  0.0263\n",
      "Epoch :  11 => train 정확도 :  96.38 % /  test 정확도 :  92.4 % / loss :  0.0618\n",
      "Epoch :  12 => train 정확도 :  97.64 % /  test 정확도 :  93.6 % / loss :  0.0089\n",
      "Epoch :  13 => train 정확도 :  97.26 % /  test 정확도 :  93.9 % / loss :  0.0155\n",
      "Epoch :  14 => train 정확도 :  98.22 % /  test 정확도 :  93.8 % / loss :  0.0204\n",
      "Epoch :  15 => train 정확도 :  98.28 % /  test 정확도 :  94.2 % / loss :  0.01\n",
      "Epoch :  16 => train 정확도 :  98.3 % /  test 정확도 :  93.5 % / loss :  0.0126\n",
      "Epoch :  17 => train 정확도 :  98.72 % /  test 정확도 :  94.5 % / loss :  0.0072\n",
      "Epoch :  18 => train 정확도 :  98.84 % /  test 정확도 :  94.6 % / loss :  0.0067\n",
      "Epoch :  19 => train 정확도 :  99.2 % /  test 정확도 :  95.0 % / loss :  0.0079\n",
      "Epoch :  20 => train 정확도 :  97.5 % /  test 정확도 :  93.5 % / loss :  0.0064\n",
      "종료\n"
     ]
    }
   ],
   "source": [
    "iter_per_epoch = train_size // batch_size\n",
    "\n",
    "for i in range(iters_num):\n",
    "    batch_mask = np.random.choice(train_size, batch_size)\n",
    "    x_batch = x_train[batch_mask]\n",
    "    t_batch = t_train[batch_mask]\n",
    "    \n",
    "    # 오차 역전파 이용해 기울기 계산\n",
    "    grad = network.gradient(x_batch, t_batch)\n",
    "    \n",
    "    # 매개변수 갱신\n",
    "    for key in (\"W1\", \"b1\", \"W2\", \"b2\", \"W3\", \"b3\"):\n",
    "        network.params[key] -= learning_rate * grad[key]\n",
    "        \n",
    "    # 학습 경과 기록\n",
    "    loss = network.loss(x_batch, t_batch)\n",
    "    train_loss_list.append(loss)\n",
    "        \n",
    "        \n",
    "    # 1 epoch 당 정확도 계산\n",
    "    if i % iter_per_epoch == 0:\n",
    "        epoch += 1\n",
    "        train_acc = network.accuracy(x_train, t_train)\n",
    "        test_acc = network.accuracy(x_test, t_test)\n",
    "        \n",
    "        train_acc_list.append(train_acc)\n",
    "        test_acc_list.append(test_acc)\n",
    "        \n",
    "        train_loss_list2.append(loss)\n",
    "        \n",
    "        print(\"Epoch : \", epoch, \"=> train 정확도 : \", round(train_acc * 100, 2),\n",
    "             \"% /  test 정확도 : \", round(test_acc * 100, 2),\n",
    "             \"% / loss : \", round(loss, 4))\n",
    "\n",
    "print(\"종료\")"
   ]
  },
  {
   "cell_type": "code",
   "execution_count": 19,
   "id": "6fc3a8c3",
   "metadata": {},
   "outputs": [
    {
     "data": {
      "image/png": "[encoded data removed]",
      "text/plain": [
       "<Figure size 1080x648 with 1 Axes>"
      ]
     },
     "metadata": {
      "needs_background": "light"
     },
     "output_type": "display_data"
    }
   ],
   "source": [
    "import matplotlib.pyplot as plt\n",
    "\n",
    "plt.figure(figsize=(15, 9))\n",
    "plt.plot(train_loss_list2)\n",
    "plt.title(\"model loss\")\n",
    "plt.ylabel(\"loss\")\n",
    "plt.xlabel(\"epoch\")\n",
    "plt.legend([\"loss\"], loc =\"upper left\")\n",
    "plt.show()"
   ]
  },
  {
   "cell_type": "code",
   "execution_count": 20,
   "id": "fce549be",
   "metadata": {},
   "outputs": [
    {
     "data": {
      "image/png": "[encoded data removed]",
      "text/plain": [
       "<Figure size 1080x648 with 1 Axes>"
      ]
     },
     "metadata": {
      "needs_background": "light"
     },
     "output_type": "display_data"
    }
   ],
   "source": [
    "import matplotlib.pyplot as plt\n",
    "\n",
    "plt.figure(figsize=(15, 9))\n",
    "plt.plot(train_acc_list)\n",
    "plt.plot(test_acc_list)\n",
    "plt.title(\"model accuracy\")\n",
    "plt.ylabel(\"accuracy\")\n",
    "plt.xlabel(\"epoch\")\n",
    "plt.legend([\"train\", \"test\"], loc =\"upper left\")\n",
    "plt.show()"
   ]
  }
 ],
 "metadata": {
  "kernelspec": {
   "display_name": "Python 3 (ipykernel)",
   "language": "python",
   "name": "python3"
  },
  "language_info": {
   "codemirror_mode": {
    "name": "ipython",
    "version": 3
   },
   "file_extension": ".py",
   "mimetype": "text/x-python",
   "name": "python",
   "nbconvert_exporter": "python",
   "pygments_lexer": "ipython3",
   "version": "3.9.12"
  }
 },
 "nbformat": 4,
 "nbformat_minor": 5
}
