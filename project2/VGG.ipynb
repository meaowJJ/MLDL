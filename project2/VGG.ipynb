{
 "cells": [
  {
   "cell_type": "code",
   "execution_count": 1,
   "id": "f555ec38",
   "metadata": {},
   "outputs": [],
   "source": [
    "#필요한 모듈을 import 합니다.\n",
    "import numpy as np\n",
    "import tensorflow as tf\n",
    "import matplotlib.pyplot as plt\n",
    "\n",
    "\n",
    "#데이터 불러오기 위해 필요한 라이브러리\n",
    "import os\n",
    "import cv2    #open cv 파이썬 버전\n",
    "from sklearn.preprocessing import LabelEncoder    #이미지의 이름을 수치화 하여 라벨링 하기 위함\n",
    "from glob import glob    #디렉토리를 리스트로 불러옴\n",
    "\n",
    "\n",
    "#모델에 필요한 라이브러리\n",
    "from tensorflow.keras.models import Sequential\n",
    "from tensorflow.keras.layers import Conv2D, MaxPooling2D, Dropout, Flatten, Dense\n",
    "from tensorflow.keras.optimizers import Adam\n",
    "from tensorflow.keras.layers import Activation\n",
    "from tensorflow.keras.utils import to_categorical\n",
    "#import h5py    #크고 복잡한 대용량 데이터를 저장하기 위한 파일 형식\n",
    "                #         - 모델을 저장하기 위함\n",
    "\n",
    "\n",
    "    \n",
    "#L2 정규화(Ridge):모형의 복잡성은 가중치의 제곱합으로 표현\n",
    "from tensorflow.keras.regularizers import l2"
   ]
  },
  {
   "cell_type": "code",
   "execution_count": 2,
   "id": "6361171f",
   "metadata": {},
   "outputs": [],
   "source": [
    "# 데이터 로드 함수\n",
    "def img_load(local):\n",
    "    img_paths = glob(local)\n",
    "    data = []\n",
    "    label = []\n",
    "    \n",
    "    for path in img_paths:\n",
    "        img = cv2.imread(path)\n",
    "        img = cv2.cvtColor(img, cv2.COLOR_BGR2RGB)\n",
    "        img = cv2.resize(img, (125, 125))\n",
    "        \n",
    "        label.append(path.split('\\\\')[5])        \n",
    "        data.append(img)\n",
    "    \n",
    "    le = LabelEncoder()\n",
    "    label = le.fit_transform(label)\n",
    "    \n",
    "    #더 높은 정확도를 위해 train 이미지를 섞음\n",
    "    np.random.seed(42)\n",
    "    index = np.arange(len(data))\n",
    "    np.random.shuffle(index)\n",
    "    \n",
    "    data = np.array(data)\n",
    "    data = data[index[:]]\n",
    "    label = label[index[:]]\n",
    "    \n",
    "    return data, label"
   ]
  },
  {
   "cell_type": "code",
   "execution_count": 3,
   "id": "fee67871",
   "metadata": {},
   "outputs": [
    {
     "name": "stdout",
     "output_type": "stream",
     "text": [
      "x_tarin :  (3372, 125, 125, 3)\n",
      "t_tarin :  (3372,)\n",
      "x_test :  (847, 125, 125, 3)\n",
      "t_test :  (847,)\n"
     ]
    }
   ],
   "source": [
    "(x_train, t_train) = img_load('D:\\\\Python\\\\MachineLearning_FinalProject\\\\data\\\\train\\\\*\\\\*')\n",
    "(x_test, t_test) = img_load('D:\\\\Python\\\\MachineLearning_FinalProject\\\\data\\\\test\\\\*\\\\*')\n",
    "print('x_tarin : ', np.shape(x_train))\n",
    "print('t_tarin : ', np.shape(t_train))\n",
    "print('x_test : ', np.shape(x_test))\n",
    "print('t_test : ', np.shape(t_test))"
   ]
  },
  {
   "cell_type": "code",
   "execution_count": 4,
   "id": "14fc4e27",
   "metadata": {},
   "outputs": [],
   "source": [
    "# 데이터 형변환\n",
    "x_train = x_train.astype('float32')\n",
    "x_test = x_test.astype('float32')\n",
    "# 데이터 스케일링\n",
    "x_train_scaled = x_train/255.0\n",
    "x_test_scaled = x_test/255.0\n",
    "# 데이터 파티셔닝\n",
    "from sklearn.model_selection import train_test_split\n",
    "x_train, x_val, t_train, t_val = train_test_split(x_train_scaled, t_train, test_size=0.2, random_state=42)"
   ]
  },
  {
   "cell_type": "code",
   "execution_count": 5,
   "id": "e491b6e6",
   "metadata": {},
   "outputs": [],
   "source": [
    "import tensorflow as tf\n",
    "(x_train, t_train) = img_load('D:\\\\Python\\\\MachineLearning_FinalProject\\\\data\\\\train\\\\*\\\\*')\n",
    "(x_test, t_test) = img_load('D:\\\\Python\\\\MachineLearning_FinalProject\\\\data\\\\test\\\\*\\\\*')"
   ]
  },
  {
   "cell_type": "code",
   "execution_count": 6,
   "id": "f4e0f53c",
   "metadata": {},
   "outputs": [],
   "source": [
    "x_train = x_train.astype('float32')\n",
    "x_test = x_test.astype('float32')\n",
    "x_train_scaled = x_train/255\n",
    "x_test_scaled = x_test/255"
   ]
  },
  {
   "cell_type": "code",
   "execution_count": 7,
   "id": "d23af179",
   "metadata": {},
   "outputs": [],
   "source": [
    "from sklearn.model_selection import train_test_split\n",
    "x_train, x_val, t_train, t_val = train_test_split(x_train_scaled, t_train, test_size=0.2, random_state=42)"
   ]
  },
  {
   "cell_type": "code",
   "execution_count": 8,
   "id": "21f988f9",
   "metadata": {},
   "outputs": [
    {
     "name": "stdout",
     "output_type": "stream",
     "text": [
      "Downloading data from https://storage.googleapis.com/tensorflow/keras-applications/vgg16/vgg16_weights_tf_dim_ordering_tf_kernels_notop.h5\n",
      "58889256/58889256 [==============================] - 33s 1us/step\n"
     ]
    }
   ],
   "source": [
    "#VGG 16은 레이어 16개로 구성\n",
    "#모든 합성곱 레이어에 3X3의 작은 필터 사용\n",
    "#많은 레이어 사용, 파라미터 감소\n",
    "#합성곱 레이어, 풀링 레이어 번갈아가며 쌓아서 깊은 네트워크 제작\n",
    "#3x3 사이즈의 작은 커널을 여러 번 반복\n",
    "from tensorflow.keras.applications import vgg16 as vgg\n",
    "\n",
    "base_model = vgg.VGG16(weights='imagenet', \n",
    "                       include_top=False, \n",
    "                       input_shape=(125, 125, 3))\n"
   ]
  },
  {
   "cell_type": "code",
   "execution_count": 18,
   "id": "a1f5e2a2",
   "metadata": {},
   "outputs": [],
   "source": [
    "#block3_pool은 모델의 컨볼루션 레이어\n",
    "#입력 이미지의 특징 추출\n",
    "last = base_model.get_layer('block3_pool').output"
   ]
  },
  {
   "cell_type": "code",
   "execution_count": 19,
   "id": "090a38b5",
   "metadata": {},
   "outputs": [],
   "source": [
    "from tensorflow.keras.layers import Dropout, Flatten, Dense, GlobalAveragePooling2D,BatchNormalization\n",
    "from tensorflow.keras import Model\n",
    "# 상위 층에 분류층 추가\n",
    "\n",
    "#GlobalAveragePooling2D은 MaxPooling2D 대신 사용\n",
    "#값을 1차원으로 변환\n",
    "x = GlobalAveragePooling2D()(last)\n",
    "#BatchNormalization는 배치 정규화\n",
    "#연산 결과가 원하는 방향의 분포대로 나오는 것이 목적\n",
    "x= BatchNormalization()(x)\n",
    "x = Dense(256, activation='relu')(x)\n",
    "x = Dense(256, activation='relu')(x)\n",
    "#Dropout은 무작위로 뉴런 제거, 과적합 방지\n",
    "x = Dropout(0.6)(x)\n",
    "pred = Dense(10, activation='softmax')(x)\n",
    "model3 = Model(base_model.input, pred)"
   ]
  },
  {
   "cell_type": "code",
   "execution_count": 20,
   "id": "d786ca5b",
   "metadata": {},
   "outputs": [],
   "source": [
    "for layer in base_model.layers:\n",
    "     layer.trainable = False"
   ]
  },
  {
   "cell_type": "code",
   "execution_count": 21,
   "id": "153ac916",
   "metadata": {},
   "outputs": [
    {
     "name": "stderr",
     "output_type": "stream",
     "text": [
      "WARNING:absl:`lr` is deprecated in Keras optimizer, please use `learning_rate` or use the legacy optimizer, e.g.,tf.keras.optimizers.legacy.Adam.\n"
     ]
    }
   ],
   "source": [
    "model3.compile(loss='sparse_categorical_crossentropy',\n",
    "              optimizer=tf.keras.optimizers.Adam(lr=0.001),\n",
    "              metrics=['accuracy'])"
   ]
  },
  {
   "cell_type": "code",
   "execution_count": 22,
   "id": "e6a905d6",
   "metadata": {},
   "outputs": [
    {
     "name": "stdout",
     "output_type": "stream",
     "text": [
      "Epoch 1/10\n",
      "85/85 [==============================] - 180s 2s/step - loss: 1.7155 - accuracy: 0.4049 - val_loss: 1.5195 - val_accuracy: 0.4652\n",
      "Epoch 2/10\n",
      "85/85 [==============================] - 188s 2s/step - loss: 1.2485 - accuracy: 0.5640 - val_loss: 1.0838 - val_accuracy: 0.6178\n",
      "Epoch 3/10\n",
      "85/85 [==============================] - 193s 2s/step - loss: 1.1071 - accuracy: 0.6166 - val_loss: 0.9980 - val_accuracy: 0.6637\n",
      "Epoch 4/10\n",
      "85/85 [==============================] - 203s 2s/step - loss: 0.9963 - accuracy: 0.6437 - val_loss: 0.9094 - val_accuracy: 0.6667\n",
      "Epoch 5/10\n",
      "85/85 [==============================] - 221s 3s/step - loss: 0.8950 - accuracy: 0.6885 - val_loss: 0.8715 - val_accuracy: 0.6993\n",
      "Epoch 6/10\n",
      "85/85 [==============================] - 211s 2s/step - loss: 0.8427 - accuracy: 0.7052 - val_loss: 0.8582 - val_accuracy: 0.7007\n",
      "Epoch 7/10\n",
      "85/85 [==============================] - 191s 2s/step - loss: 0.7813 - accuracy: 0.7379 - val_loss: 0.8502 - val_accuracy: 0.6963\n",
      "Epoch 8/10\n",
      "85/85 [==============================] - 196s 2s/step - loss: 0.7304 - accuracy: 0.7405 - val_loss: 0.7892 - val_accuracy: 0.7304\n",
      "Epoch 9/10\n",
      "85/85 [==============================] - 190s 2s/step - loss: 0.6601 - accuracy: 0.7746 - val_loss: 0.8255 - val_accuracy: 0.7230\n",
      "Epoch 10/10\n",
      "85/85 [==============================] - 190s 2s/step - loss: 0.6430 - accuracy: 0.7723 - val_loss: 0.8264 - val_accuracy: 0.7348\n"
     ]
    }
   ],
   "source": [
    "history = model3.fit(x=x_train, y=t_train,\n",
    "                    validation_data=(x_val, t_val),\n",
    "                    batch_size=32,\n",
    "                    epochs=10,\n",
    "                    verbose=1)\n",
    "#verbose는 상세한 내용 출력 여부 조정 parameter\n",
    "# 0 = 터미널에서 연산 안함\n",
    "#1 = 연산 전체 보임\n",
    "# 2 = loss만 보임\n",
    "# 3이상 = epochs만 보임"
   ]
  },
  {
   "cell_type": "code",
   "execution_count": 23,
   "id": "093265b2",
   "metadata": {},
   "outputs": [
    {
     "name": "stdout",
     "output_type": "stream",
     "text": [
      "27/27 [==============================] - 48s 2s/step - loss: 0.8527 - accuracy: 0.7143\n"
     ]
    },
    {
     "data": {
      "text/plain": [
       "[0.8527169823646545, 0.7142857313156128]"
      ]
     },
     "execution_count": 23,
     "metadata": {},
     "output_type": "execute_result"
    }
   ],
   "source": [
    "model3.evaluate(x_test_scaled, t_test)"
   ]
  },
  {
   "cell_type": "code",
   "execution_count": null,
   "id": "2cdc8c80",
   "metadata": {},
   "outputs": [],
   "source": []
  }
 ],
 "metadata": {
  "kernelspec": {
   "display_name": "Python 3 (ipykernel)",
   "language": "python",
   "name": "python3"
  },
  "language_info": {
   "codemirror_mode": {
    "name": "ipython",
    "version": 3
   },
   "file_extension": ".py",
   "mimetype": "text/x-python",
   "name": "python",
   "nbconvert_exporter": "python",
   "pygments_lexer": "ipython3",
   "version": "3.9.12"
  }
 },
 "nbformat": 4,
 "nbformat_minor": 5
}
